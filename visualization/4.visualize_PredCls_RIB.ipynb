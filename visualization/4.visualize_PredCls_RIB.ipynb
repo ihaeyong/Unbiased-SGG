{
 "cells": [
  {
   "cell_type": "code",
   "execution_count": 568,
   "metadata": {},
   "outputs": [],
   "source": [
    "import os\n",
    "import torch\n",
    "import json\n",
    "import h5py\n",
    "import numpy as np\n",
    "from matplotlib.pyplot import imshow\n",
    "from PIL import Image, ImageDraw, ImageFont\n",
    "import cv2 \n",
    "\n",
    "from matplotlib import pyplot as plt"
   ]
  },
  {
   "cell_type": "code",
   "execution_count": 569,
   "metadata": {},
   "outputs": [
    {
     "name": "stdout",
     "output_type": "stream",
     "text": [
      "/usr/share/fonts/truetype/dejavu/DejaVuSerif.ttf\n"
     ]
    }
   ],
   "source": [
    "import fontconfig\n",
    "\n",
    "# find a font file\n",
    "fonts = fontconfig.query(lang='en')\n",
    "for i in range(1, len(fonts)):\n",
    "    if fonts[i].fontformat == 'TrueType':\n",
    "        absolute_path = fonts[i].file\n",
    "        \n",
    "        print(absolute_path)\n",
    "        break"
   ]
  },
  {
   "cell_type": "code",
   "execution_count": 570,
   "metadata": {},
   "outputs": [],
   "source": [
    "image_file = json.load(open('../datasets/vg/image_data.json'))\n",
    "vocab_file = json.load(open('../datasets/vg/VG-SGG-dicts-with-attri.json'))\n",
    "data_file = h5py.File('../datasets/vg/VG-SGG-with-attri.h5', 'r')\n",
    "# remove invalid image\n",
    "corrupted_ims = [1592, 1722, 4616, 4617]\n",
    "tmp = []\n",
    "for item in image_file:\n",
    "    if int(item['image_id']) not in corrupted_ims:\n",
    "        tmp.append(item)\n",
    "image_file = tmp"
   ]
  },
  {
   "cell_type": "code",
   "execution_count": 571,
   "metadata": {},
   "outputs": [],
   "source": [
    "# load detected results\n",
    "path = '../checkpoints/iba0.02_s2_inv_prop0.03_power0.5_sum_v3-predcls/'\n",
    "detected_origin_path = path + 'inference/VG_stanford_filtered_with_attribute_test/'\n",
    "dir_fmap = path + '/rib/'"
   ]
  },
  {
   "cell_type": "code",
   "execution_count": 572,
   "metadata": {},
   "outputs": [],
   "source": [
    "detected_origin_result = torch.load(detected_origin_path + 'eval_results.pytorch')\n",
    "detected_info = json.load(open(detected_origin_path + 'visual_info.json'))"
   ]
  },
  {
   "cell_type": "code",
   "execution_count": 628,
   "metadata": {},
   "outputs": [],
   "source": [
    "def load_fmap(fname): \n",
    "    fmap = np.load(fname)\n",
    "    fmap = np.mean(fmap, axis=1)\n",
    "    fmap = fmap * (fmap > 0) # ReLU \n",
    "    fmap = fmap - fmap.min()  \n",
    "    fmap /= fmap.max()\n",
    "    return fmap \n",
    "    \n",
    "def resize_map(fmap, size): \n",
    "    return cv2.resize(fmap, size, cv2.INTER_AREA)\n",
    "\n",
    "def load_mask(fname): \n",
    "    masks = np.load(fname)\n",
    "    return masks \n",
    "\n",
    "def load_inds(fname): \n",
    "    rel_inds = np.load(fname)\n",
    "    return rel_inds\n",
    "\n",
    "def get_mask(masks, rel_inds, query_rel): \n",
    "    idx = rel_inds.tolist().index(query_rel)\n",
    "    return masks[idx, 0, :, :], idx\n",
    "\n",
    "def get_predicate(rels, query_rel): \n",
    "    idx = rels[:, 0:2].tolist().index(query_rel)\n",
    "    return rels[idx, 2]\n",
    "\n",
    "def get_union(box1, box2): \n",
    "    ubox = [0, 0, 0, 0]\n",
    "    \n",
    "    ubox[0] = min(box1[0], box2[0]).astype(int)\n",
    "    ubox[1] = min(box1[1], box2[1]).astype(int)\n",
    "    ubox[2] = max(box1[2], box2[2]).astype(int)\n",
    "    ubox[3] = max(box1[3], box2[3]).astype(int)\n",
    "    return ubox"
   ]
  },
  {
   "cell_type": "code",
   "execution_count": 629,
   "metadata": {},
   "outputs": [],
   "source": [
    "def resize_boxes(img, boxes, im_scale=(1024.,)):\n",
    "    new_boxes = np.copy(boxes)\n",
    "    h, w = img.shape[0:2]\n",
    "    if len(im_scale) == 2: \n",
    "        scale_w = im_scale[1] / w\n",
    "        scale_h = im_scale[0] / h \n",
    "    else:\n",
    "        if h > w: \n",
    "            scale_h = im_scale[0] / h \n",
    "            scale_w = scale_h \n",
    "        else:\n",
    "            scale_w = im_scale[0] / w \n",
    "            scale_h = scale_w \n",
    "    #ipdb.set_trace()\n",
    "    new_boxes[:, [0, 2]] = new_boxes[:, [0, 2]] / scale_w\n",
    "    new_boxes[:, [1, 3]] = new_boxes[:, [1, 3]] / scale_h\n",
    "    new_boxes = new_boxes.astype(np.int)\n",
    "    return  new_boxes"
   ]
  },
  {
   "cell_type": "code",
   "execution_count": 630,
   "metadata": {},
   "outputs": [],
   "source": [
    "# load fmap\n",
    "def get_fmap(idx):\n",
    "    # (1, 256, 232, 152)\n",
    "    fmap = load_fmap(dir_fmap + '{}_fmap.npy'.format(idx))\n",
    "    fmap = np.swapaxes(fmap, 0,2)\n",
    "    # (90, 256, 7, 7)\n",
    "    rib_fmap = load_fmap(dir_fmap + '{}_rib_fmap.npy'.format(idx))\n",
    "    rib_fmap = np.swapaxes(rib_fmap, 0,2)\n",
    "    # (90, 1, 15, 15)\n",
    "    mask = load_mask(dir_fmap + '{}_mask.npy'.format(idx))\n",
    "    mask = np.swapaxes(mask, 1,3)\n",
    "    # (90, 2)\n",
    "    rel_inds = load_inds(dir_fmap + '{}_inds.npy'.format(idx))\n",
    "    \n",
    "    return fmap, rib_fmap, mask, rel_inds"
   ]
  },
  {
   "cell_type": "code",
   "execution_count": 631,
   "metadata": {},
   "outputs": [],
   "source": [
    "def draw_single_box(pic, box, color='red', draw_info=None):\n",
    "    draw = ImageDraw.Draw(pic)\n",
    "    \n",
    "    # get a font\n",
    "    fnt = ImageFont.truetype(absolute_path, 14, encoding=\"unic\")\n",
    "    \n",
    "    x1,y1,x2,y2 = int(box[0]), int(box[1]), int(box[2]), int(box[3])\n",
    "    draw.rectangle(((x1, y1), (x2, y2)), outline=color)\n",
    "    if draw_info:\n",
    "        draw.rectangle(((x1, y1), (x1+60, y1+15)), fill=color)\n",
    "        info = draw_info\n",
    "        draw.text((x1, y1), info, font=fnt)\n",
    "        \n",
    "def draw_union_box(pic, box, color='red', draw_info=None):\n",
    "    draw = ImageDraw.Draw(pic)\n",
    "    \n",
    "    # get a font\n",
    "    fnt = ImageFont.truetype(absolute_path, 14, encoding=\"unic\")\n",
    "    \n",
    "    x1,y1,x2,y2 = int(box[0]), int(box[1]), int(box[2]), int(box[3])\n",
    "    \n",
    "    draw.rectangle(((x1-1, y1-1), (x2+1, y2+1)), outline=color)\n",
    "    if draw_info:\n",
    "        draw.rectangle(((x1, y2-15), (x1+190, y2)), fill=color)\n",
    "        info = draw_info\n",
    "        draw.text((x1 + 5, y2-15), info, font=fnt)\n",
    "\n",
    "def print_list(name, input_list):\n",
    "    for i, item in enumerate(input_list):\n",
    "        print(name + ' ' + str(i) + ': ' + str(item))\n",
    "    \n",
    "def draw_image(img_path, boxes, labels, gt_rels, pred_rels, pred_rel_score, pred_rel_label, print_img=True):\n",
    "    pic = Image.open(img_path)\n",
    "    num_obj = boxes.shape[0]\n",
    "    for i in range(num_obj):\n",
    "        info = labels[i]\n",
    "        draw_single_box(pic, boxes[i], draw_info=info)\n",
    "    if print_img:\n",
    "        display(pic)\n",
    "    if print_img:\n",
    "        print('*' * 50)\n",
    "        print_list('gt_boxes', labels)\n",
    "        print('*' * 50)\n",
    "        print_list('gt_rels', gt_rels)\n",
    "        print('*' * 50)\n",
    "    print_list('pred_rels', pred_rels[:20])\n",
    "    print('*' * 50)\n",
    "    \n",
    "    return None"
   ]
  },
  {
   "cell_type": "code",
   "execution_count": 632,
   "metadata": {},
   "outputs": [],
   "source": [
    "idx = 1"
   ]
  },
  {
   "cell_type": "code",
   "execution_count": 633,
   "metadata": {},
   "outputs": [
    {
     "data": {
      "text/plain": [
       "(15, 15)"
      ]
     },
     "execution_count": 633,
     "metadata": {},
     "output_type": "execute_result"
    }
   ],
   "source": [
    "fmap, rib_fmap, mask, rel_inds = get_fmap(idx=idx)\n",
    "rib_fmap[:,:,1].shape"
   ]
  },
  {
   "cell_type": "code",
   "execution_count": 634,
   "metadata": {},
   "outputs": [],
   "source": [
    "# get image info by index\n",
    "def get_info_by_idx(idx, det_input, thres=0.5):\n",
    "    groundtruth = det_input['groundtruths'][idx]\n",
    "    prediction = det_input['predictions'][idx]\n",
    "    # image path\n",
    "    img_path = detected_info[idx]['img_file']\n",
    "    # boxes\n",
    "    boxes = groundtruth.bbox\n",
    "    \n",
    "    # object labels\n",
    "    idx2label = vocab_file['idx_to_label']\n",
    "    labels = ['{}-{}'.format(idx,idx2label[str(i)]) for idx, i in enumerate(groundtruth.get_field('labels').tolist())]\n",
    "    pred_labels = ['{}-{}'.format(idx,idx2label[str(i)]) for idx, i in enumerate(prediction.get_field('pred_labels').tolist())]\n",
    "    \n",
    "    # groundtruth relation triplet\n",
    "    idx2pred = vocab_file['idx_to_predicate']\n",
    "    gt_rels = groundtruth.get_field('relation_tuple').tolist()\n",
    "    gt_rels = [(labels[i[0]], idx2pred[str(i[2])], labels[i[1]]) for i in gt_rels]\n",
    "    \n",
    "    # prediction relation triplet\n",
    "    pred_rel_pair = prediction.get_field('rel_pair_idxs').tolist()\n",
    "    pred_rel_label = prediction.get_field('pred_rel_scores')\n",
    "    pred_rel_label[:,0] = 0\n",
    "    pred_rel_score, pred_rel_label = pred_rel_label.max(-1)\n",
    "    \n",
    "    #mask = pred_rel_score > thres\n",
    "    #pred_rel_score = pred_rel_score[mask]\n",
    "    #pred_rel_label = pred_rel_label[mask]\n",
    "    pred_rels = [(pred_labels[i[0]], idx2pred[str(j)], pred_labels[i[1]]) for i, j in zip(pred_rel_pair, pred_rel_label.tolist())]\n",
    "    return img_path, boxes, labels, gt_rels, pred_rels, pred_rel_score, pred_rel_label"
   ]
  },
  {
   "cell_type": "code",
   "execution_count": 635,
   "metadata": {},
   "outputs": [],
   "source": [
    "pred_path = './pred_boxes/'\n",
    "try:\n",
    "    os.mkdir(pred_path)\n",
    "except :\n",
    "    None"
   ]
  },
  {
   "cell_type": "code",
   "execution_count": 636,
   "metadata": {},
   "outputs": [],
   "source": [
    "img_path,boxes,labels,gt_rels,pred_rels,pred_rel_score,pred_rel_label= get_info_by_idx(idx=idx,det_input=detected_origin_result)"
   ]
  },
  {
   "cell_type": "code",
   "execution_count": 637,
   "metadata": {},
   "outputs": [
    {
     "data": {
      "text/plain": [
       "[133.78906, 35.64453, 465.8203, 349.1211]"
      ]
     },
     "execution_count": 637,
     "metadata": {},
     "output_type": "execute_result"
    }
   ],
   "source": [
    "union_box"
   ]
  },
  {
   "cell_type": "code",
   "execution_count": null,
   "metadata": {},
   "outputs": [
    {
     "name": "stdout",
     "output_type": "stream",
     "text": [
      "./pred_boxes/2343729_2.pdf\n",
      "./pred_boxes/2343729_0.pdf\n",
      "./pred_boxes/2343729_8.pdf\n",
      "./pred_boxes/2343729_6.pdf\n",
      "./pred_boxes/2343729_12.pdf\n",
      "./pred_boxes/2343728_20.pdf\n",
      "./pred_boxes/2343728_7.pdf\n",
      "./pred_boxes/2343728_4.pdf\n",
      "./pred_boxes/2343728_1.pdf\n",
      "./pred_boxes/2343727_0.pdf\n",
      "./pred_boxes/2343727_76.pdf\n",
      "./pred_boxes/2343726_5.pdf\n",
      "./pred_boxes/2343726_3.pdf\n",
      "./pred_boxes/2343726_22.pdf\n",
      "./pred_boxes/2343726_4.pdf\n",
      "./pred_boxes/2343726_1.pdf\n",
      "./pred_boxes/2343725_0.pdf\n",
      "./pred_boxes/2343725_0.pdf\n",
      "./pred_boxes/2343724_2.pdf\n",
      "./pred_boxes/2343724_20.pdf\n",
      "./pred_boxes/2343723_3.pdf\n",
      "./pred_boxes/2343723_39.pdf\n",
      "./pred_boxes/2343723_14.pdf\n",
      "./pred_boxes/2343723_37.pdf\n",
      "./pred_boxes/2343723_3.pdf\n",
      "./pred_boxes/2343723_11.pdf\n",
      "./pred_boxes/2343723_3.pdf\n",
      "./pred_boxes/2343723_18.pdf\n",
      "./pred_boxes/2343723_49.pdf\n",
      "./pred_boxes/2343722_1.pdf\n",
      "./pred_boxes/2343722_5.pdf\n",
      "./pred_boxes/2343722_6.pdf\n",
      "./pred_boxes/2343722_7.pdf\n",
      "./pred_boxes/2343722_27.pdf\n",
      "./pred_boxes/2343722_4.pdf\n",
      "./pred_boxes/2343722_27.pdf\n",
      "./pred_boxes/2343722_7.pdf\n",
      "./pred_boxes/2343722_3.pdf\n",
      "./pred_boxes/2343722_2.pdf\n",
      "./pred_boxes/2343721_0.pdf\n",
      "./pred_boxes/2343721_25.pdf\n",
      "./pred_boxes/2343721_4.pdf\n",
      "./pred_boxes/2343721_36.pdf\n",
      "./pred_boxes/2343720_33.pdf\n",
      "./pred_boxes/2343720_2.pdf\n",
      "./pred_boxes/2343720_1.pdf\n",
      "./pred_boxes/2343720_0.pdf\n",
      "./pred_boxes/2343720_0.pdf\n",
      "./pred_boxes/2343720_1.pdf\n",
      "./pred_boxes/2343718_1.pdf\n",
      "./pred_boxes/2343718_3.pdf\n",
      "./pred_boxes/2343718_4.pdf\n",
      "./pred_boxes/2343718_9.pdf\n",
      "./pred_boxes/2343718_45.pdf\n",
      "./pred_boxes/2343718_12.pdf\n",
      "./pred_boxes/2343718_15.pdf\n",
      "./pred_boxes/2343718_8.pdf\n",
      "./pred_boxes/2343718_10.pdf\n",
      "./pred_boxes/2343718_10.pdf\n",
      "./pred_boxes/2343718_11.pdf\n",
      "./pred_boxes/2343718_21.pdf\n",
      "./pred_boxes/2343718_10.pdf\n"
     ]
    }
   ],
   "source": [
    "for idx in range(0, 200):\n",
    "    \n",
    "    # get predictions\n",
    "    img_path,boxes,labels,gt_rels,pred_rels,pred_rel_score,pred_rel_label= get_info_by_idx(\n",
    "        idx=idx,det_input=detected_origin_result)\n",
    "\n",
    "    # get image name\n",
    "    img_name = img_path.split('/')[-1].split('.')[0]\n",
    "\n",
    "    # get Image\n",
    "    img = cv2.imread(img_path)\n",
    "    \n",
    "    np_boxes = boxes.cpu().numpy()\n",
    "\n",
    "    for rel_idx in range(len(gt_rels)):\n",
    "        \n",
    "        gt_subj_idx = int(gt_rels[rel_idx][0].split('-')[0])\n",
    "        gt_obj_idx = int(gt_rels[rel_idx][2].split('-')[0])\n",
    "\n",
    "        gt_subj_label = gt_rels[rel_idx][0].split('-')[1]\n",
    "        gt_obj_label = gt_rels[rel_idx][2].split('-')[1]\n",
    "        gt_rel_label = gt_rels[rel_idx][1]\n",
    "\n",
    "        gt_triplet = '< ' + gt_subj_label + ', ' + gt_rel_label + ', ' + gt_obj_label + ' >' \n",
    "\n",
    "        for rel_jdx in range(len(pred_rels)):\n",
    "\n",
    "            # sample name\n",
    "            img_rel_name = pred_path + img_name + '_{}.pdf'.format(str(rel_jdx))\n",
    "            img_jdx = img.copy()\n",
    "            \n",
    "            pred_subj_idx = int(pred_rels[rel_jdx][0].split('-')[0])\n",
    "            pred_obj_idx = int(pred_rels[rel_jdx][2].split('-')[0])\n",
    "\n",
    "            pred_subj_label = pred_rels[rel_jdx][0].split('-')[1]\n",
    "            pred_obj_label = pred_rels[rel_jdx][2].split('-')[1]\n",
    "            pred_rel_label = pred_rels[rel_jdx][1]\n",
    "\n",
    "            # get union boxes \n",
    "            subj_box = np_boxes[pred_subj_idx]\n",
    "            obj_box = np_boxes[pred_obj_idx]\n",
    "\n",
    "            # [96.67969, 123.53516, 498.53516, 306.15234]\n",
    "            union_box = get_union(subj_box, obj_box)\n",
    "\n",
    "            # pred triplet\n",
    "            pred_triplet = '< ' + pred_subj_label + ', ' + pred_rel_label + ', ' + pred_obj_label + ' >'\n",
    "\n",
    "\n",
    "            # get heatmaps\n",
    "            fmap, rib_fmap, mask, rel_inds = get_fmap(idx=idx)\n",
    "\n",
    "            if False:\n",
    "                fmap = resize_map(fmap[0], (img.shape[1], img.shape[0]))\n",
    "            else:\n",
    "                fmap_w = union_box[2] - union_box[0]\n",
    "                fmap_h = union_box[3] - union_box[1]\n",
    "                fmap = resize_map(rib_fmap[:,:,rel_jdx], (fmap_w, fmap_h))\n",
    "\n",
    "            if False:\n",
    "                heatmap = fmap[union_box[1]:union_box[3]+1, union_box[0]:union_box[2]+1]\n",
    "            else:\n",
    "                heatmap = fmap\n",
    "\n",
    "            heatmap = np.array(heatmap * 255, dtype = np.uint8)\n",
    "            heatmap = cv2.applyColorMap(heatmap, cv2.COLORMAP_WINTER)\n",
    "\n",
    "            overlay = 0.5\n",
    "            img_jdx[union_box[1]:union_box[3], union_box[0]:union_box[2], :] += np.uint8(overlay * heatmap)\n",
    "\n",
    "            if gt_subj_idx == pred_subj_idx and gt_obj_idx == pred_obj_idx:\n",
    "\n",
    "                # You may need to convert the color.\n",
    "                img_jdx = cv2.cvtColor(img_jdx, cv2.COLOR_BGR2RGB)\n",
    "                im_pil = Image.fromarray(img_jdx)\n",
    "\n",
    "                draw_single_box(im_pil, subj_box, draw_info=pred_subj_label, color='green')\n",
    "                draw_single_box(im_pil, obj_box, draw_info=pred_obj_label, color='magenta')\n",
    "                draw_union_box(im_pil, union_box, draw_info=pred_triplet, color='red')\n",
    "\n",
    "\n",
    "                #display(im_pil)\n",
    "                print(img_rel_name)\n",
    "                #display(im_pil)\n",
    "                plt.imshow(im_pil)\n",
    "                plt.axis('off')\n",
    "                plt.savefig(img_rel_name, dpi=200)\n",
    "            \n",
    "            "
   ]
  },
  {
   "cell_type": "code",
   "execution_count": null,
   "metadata": {},
   "outputs": [],
   "source": []
  },
  {
   "cell_type": "code",
   "execution_count": null,
   "metadata": {},
   "outputs": [],
   "source": []
  },
  {
   "cell_type": "code",
   "execution_count": null,
   "metadata": {},
   "outputs": [],
   "source": []
  },
  {
   "cell_type": "code",
   "execution_count": null,
   "metadata": {},
   "outputs": [],
   "source": []
  }
 ],
 "metadata": {
  "kernelspec": {
   "display_name": "Python 3",
   "language": "python",
   "name": "python3"
  },
  "language_info": {
   "codemirror_mode": {
    "name": "ipython",
    "version": 3
   },
   "file_extension": ".py",
   "mimetype": "text/x-python",
   "name": "python",
   "nbconvert_exporter": "python",
   "pygments_lexer": "ipython3",
   "version": "3.6.12"
  }
 },
 "nbformat": 4,
 "nbformat_minor": 2
}
